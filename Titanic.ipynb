{
  "cells": [
    {
      "metadata": {
        "_cell_guid": "c1d41c81-dd5c-4a7d-a44c-b3ced6dd44db",
        "_uuid": "12a695ef8eb705ac10fb00962c63e06de4ef2653",
        "trusted": true
      },
      "cell_type": "code",
      "source": "# This Python 3 environment comes with many helpful analytics libraries installed\n# It is defined by the kaggle/python docker image: https://github.com/kaggle/docker-python\n# For example, here's several helpful packages to load in \n\nimport numpy as np # linear algebra\nimport pandas as pd # data processing, CSV file I/O (e.g. pd.read_csv)\n\n# Input data files are available in the \"../input/\" directory.\n# For example, running this (by clicking run or pressing Shift+Enter) will list the files in the input directory\n\nfrom subprocess import check_output\nprint(check_output([\"ls\", \"../input\"]).decode(\"utf8\"))\n\n# Any results you write to the current directory are saved as output.",
      "execution_count": 1,
      "outputs": [
        {
          "output_type": "stream",
          "text": "gender_submission.csv\ntest.csv\ntrain.csv\n\n",
          "name": "stdout"
        }
      ]
    },
    {
      "metadata": {
        "collapsed": true,
        "_cell_guid": "bf6cea43-ba17-4454-b217-90c7b9274331",
        "_uuid": "0602d3ee595b7458aa7f9f3d5a031d60af4d92a0",
        "trusted": true
      },
      "cell_type": "code",
      "source": "df = pd.read_csv('../input/train.csv')\ntestdf = pd.read_csv('../input/test.csv')",
      "execution_count": 2,
      "outputs": []
    },
    {
      "metadata": {
        "_cell_guid": "2b9e7d53-f726-4f5b-b592-2b9095d7d427",
        "_uuid": "5ecf7b5640a46923778443b57b504bee346a837a",
        "trusted": true
      },
      "cell_type": "code",
      "source": "print(testdf.head())\ntestdf.columns.values\n",
      "execution_count": 3,
      "outputs": [
        {
          "output_type": "stream",
          "text": "   PassengerId  Pclass                                          Name     Sex  \\\n0          892       3                              Kelly, Mr. James    male   \n1          893       3              Wilkes, Mrs. James (Ellen Needs)  female   \n2          894       2                     Myles, Mr. Thomas Francis    male   \n3          895       3                              Wirz, Mr. Albert    male   \n4          896       3  Hirvonen, Mrs. Alexander (Helga E Lindqvist)  female   \n\n    Age  SibSp  Parch   Ticket     Fare Cabin Embarked  \n0  34.5      0      0   330911   7.8292   NaN        Q  \n1  47.0      1      0   363272   7.0000   NaN        S  \n2  62.0      0      0   240276   9.6875   NaN        Q  \n3  27.0      0      0   315154   8.6625   NaN        S  \n4  22.0      1      1  3101298  12.2875   NaN        S  \n",
          "name": "stdout"
        },
        {
          "output_type": "execute_result",
          "execution_count": 3,
          "data": {
            "text/plain": "array(['PassengerId', 'Pclass', 'Name', 'Sex', 'Age', 'SibSp', 'Parch',\n       'Ticket', 'Fare', 'Cabin', 'Embarked'], dtype=object)"
          },
          "metadata": {}
        }
      ]
    },
    {
      "metadata": {
        "collapsed": true,
        "_cell_guid": "c36b9f3c-36db-4385-b2e5-9ec75cd69e45",
        "_uuid": "0c2a493a24106a2ff32b16ca754e8ff6042ac5be",
        "trusted": true
      },
      "cell_type": "code",
      "source": "df = df.drop(['Name', 'Ticket', 'Cabin'], axis=1)\ntestdf = testdf.drop(['Name', 'Ticket', 'Cabin'], axis=1)",
      "execution_count": 4,
      "outputs": []
    },
    {
      "metadata": {
        "_cell_guid": "69471378-2db1-4511-993b-8bc23b5128a3",
        "_uuid": "2bfa0bdc15ca85f34735a985ab59c2f08ba842e5",
        "trusted": true
      },
      "cell_type": "code",
      "source": "print(df.isnull().sum())\nprint(testdf.isnull().sum())",
      "execution_count": 5,
      "outputs": [
        {
          "output_type": "stream",
          "text": "PassengerId      0\nSurvived         0\nPclass           0\nSex              0\nAge            177\nSibSp            0\nParch            0\nFare             0\nEmbarked         2\ndtype: int64\nPassengerId     0\nPclass          0\nSex             0\nAge            86\nSibSp           0\nParch           0\nFare            1\nEmbarked        0\ndtype: int64\n",
          "name": "stdout"
        }
      ]
    },
    {
      "metadata": {
        "collapsed": true,
        "_cell_guid": "f9d02d12-1bcf-4ef3-b0db-908e47b99350",
        "_uuid": "996f5c8e1fc729fa4f830598dc904140e9f06971",
        "trusted": true
      },
      "cell_type": "code",
      "source": "df['Embarked'].fillna('S', inplace = True)\ndf['Age'].fillna(df['Age'].median(), inplace = True)\ntestdf['Embarked'].fillna('S', inplace = True)\ntestdf['Age'].fillna(df['Age'].median(), inplace = True)\ntestdf['Fare'].fillna(df['Fare'].median(), inplace = True)",
      "execution_count": 6,
      "outputs": []
    },
    {
      "metadata": {
        "_cell_guid": "afeefd38-1604-4cad-85d4-ea38d950a76f",
        "_uuid": "1475ad8e3773240c3009734a55431995498e53cc",
        "trusted": true
      },
      "cell_type": "code",
      "source": "df.groupby('Survived').count()",
      "execution_count": 7,
      "outputs": [
        {
          "output_type": "execute_result",
          "execution_count": 7,
          "data": {
            "text/plain": "          PassengerId  Pclass  Sex  Age  SibSp  Parch  Fare  Embarked\nSurvived                                                             \n0                 549     549  549  549    549    549   549       549\n1                 342     342  342  342    342    342   342       342",
            "text/html": "<div>\n<style>\n    .dataframe thead tr:only-child th {\n        text-align: right;\n    }\n\n    .dataframe thead th {\n        text-align: left;\n    }\n\n    .dataframe tbody tr th {\n        vertical-align: top;\n    }\n</style>\n<table border=\"1\" class=\"dataframe\">\n  <thead>\n    <tr style=\"text-align: right;\">\n      <th></th>\n      <th>PassengerId</th>\n      <th>Pclass</th>\n      <th>Sex</th>\n      <th>Age</th>\n      <th>SibSp</th>\n      <th>Parch</th>\n      <th>Fare</th>\n      <th>Embarked</th>\n    </tr>\n    <tr>\n      <th>Survived</th>\n      <th></th>\n      <th></th>\n      <th></th>\n      <th></th>\n      <th></th>\n      <th></th>\n      <th></th>\n      <th></th>\n    </tr>\n  </thead>\n  <tbody>\n    <tr>\n      <th>0</th>\n      <td>549</td>\n      <td>549</td>\n      <td>549</td>\n      <td>549</td>\n      <td>549</td>\n      <td>549</td>\n      <td>549</td>\n      <td>549</td>\n    </tr>\n    <tr>\n      <th>1</th>\n      <td>342</td>\n      <td>342</td>\n      <td>342</td>\n      <td>342</td>\n      <td>342</td>\n      <td>342</td>\n      <td>342</td>\n      <td>342</td>\n    </tr>\n  </tbody>\n</table>\n</div>"
          },
          "metadata": {}
        }
      ]
    },
    {
      "metadata": {
        "_cell_guid": "dae89654-b297-412a-a649-426c420978b7",
        "_uuid": "84e42e94c72b0e562c0cd8f17d5802c9d0d21447",
        "trusted": true
      },
      "cell_type": "code",
      "source": "print(df.isnull().sum())\nprint(testdf.isnull().sum())\n",
      "execution_count": 8,
      "outputs": [
        {
          "output_type": "stream",
          "text": "PassengerId    0\nSurvived       0\nPclass         0\nSex            0\nAge            0\nSibSp          0\nParch          0\nFare           0\nEmbarked       0\ndtype: int64\nPassengerId    0\nPclass         0\nSex            0\nAge            0\nSibSp          0\nParch          0\nFare           0\nEmbarked       0\ndtype: int64\n",
          "name": "stdout"
        }
      ]
    },
    {
      "metadata": {
        "_cell_guid": "71c523b0-ee24-49e4-8916-6a611ba3e13f",
        "_uuid": "bb46de08ddbb5d172059f1459bf428320d519e93",
        "trusted": true
      },
      "cell_type": "code",
      "source": "df.dtypes.sample(9)",
      "execution_count": 9,
      "outputs": [
        {
          "output_type": "execute_result",
          "execution_count": 9,
          "data": {
            "text/plain": "Embarked        object\nSex             object\nSibSp            int64\nAge            float64\nParch            int64\nFare           float64\nSurvived         int64\nPclass           int64\nPassengerId      int64\ndtype: object"
          },
          "metadata": {}
        }
      ]
    },
    {
      "metadata": {
        "_cell_guid": "1fd65f04-a427-4c5c-8fe6-73c18fcf5515",
        "_uuid": "b0e1840ae50859e90d17ccc5305220b7c3eabfc7",
        "trusted": true
      },
      "cell_type": "code",
      "source": "#change object variables into numerical\ndf2 = pd.get_dummies(df)\ndf2.drop(['Survived', 'PassengerId'], axis = 1, inplace = True)\nprint(df2.columns.values)\ntestdf2 = pd.get_dummies(testdf)\nprint(testdf2.columns.values)\n",
      "execution_count": 10,
      "outputs": [
        {
          "output_type": "stream",
          "text": "['Pclass' 'Age' 'SibSp' 'Parch' 'Fare' 'Sex_female' 'Sex_male' 'Embarked_C'\n 'Embarked_Q' 'Embarked_S']\n['PassengerId' 'Pclass' 'Age' 'SibSp' 'Parch' 'Fare' 'Sex_female'\n 'Sex_male' 'Embarked_C' 'Embarked_Q' 'Embarked_S']\n",
          "name": "stdout"
        }
      ]
    },
    {
      "metadata": {
        "collapsed": true,
        "_cell_guid": "acc04d58-0e85-4d67-8c63-811be6c9ad3b",
        "_uuid": "13314d7505a4837a52c7508c9180c5e9135d9eec",
        "trusted": true
      },
      "cell_type": "code",
      "source": "#OK now we have a workable data set\nfrom sklearn import tree\nimport graphviz\nclf = tree.DecisionTreeClassifier(max_depth=3, min_samples_leaf=5)",
      "execution_count": 11,
      "outputs": []
    },
    {
      "metadata": {
        "_cell_guid": "361892a7-8dec-4058-9791-3e7f891cceec",
        "_uuid": "b6f1a4a13b0b943f42e8050ea6284138befd4a64",
        "trusted": true
      },
      "cell_type": "code",
      "source": "clf.fit(df2, df['Survived'])",
      "execution_count": 12,
      "outputs": [
        {
          "output_type": "execute_result",
          "execution_count": 12,
          "data": {
            "text/plain": "DecisionTreeClassifier(class_weight=None, criterion='gini', max_depth=3,\n            max_features=None, max_leaf_nodes=None,\n            min_impurity_decrease=0.0, min_impurity_split=None,\n            min_samples_leaf=5, min_samples_split=2,\n            min_weight_fraction_leaf=0.0, presort=False, random_state=None,\n            splitter='best')"
          },
          "metadata": {}
        }
      ]
    },
    {
      "metadata": {
        "_cell_guid": "18fa041b-83a9-4549-aa35-67d0ce53632b",
        "_uuid": "c6b88e61121e35eff9cf1f346ed6e18ee1186737",
        "trusted": true
      },
      "cell_type": "code",
      "source": "import graphviz \ndot_data = tree.export_graphviz(clf, out_file=None, feature_names = df2.columns.values) \ngraph = graphviz.Source(dot_data)\ngraph",
      "execution_count": 13,
      "outputs": [
        {
          "output_type": "execute_result",
          "execution_count": 13,
          "data": {
            "text/plain": "<graphviz.files.Source at 0x7f6a0118b0f0>",
            "image/svg+xml": "<?xml version=\"1.0\" encoding=\"UTF-8\" standalone=\"no\"?>\n<!DOCTYPE svg PUBLIC \"-//W3C//DTD SVG 1.1//EN\"\n \"http://www.w3.org/Graphics/SVG/1.1/DTD/svg11.dtd\">\n<!-- Generated by graphviz version 2.38.0 (20140413.2041)\n -->\n<!-- Title: Tree Pages: 1 -->\n<svg width=\"942pt\" height=\"373pt\"\n viewBox=\"0.00 0.00 942.00 373.00\" xmlns=\"http://www.w3.org/2000/svg\" xmlns:xlink=\"http://www.w3.org/1999/xlink\">\n<g id=\"graph0\" class=\"graph\" transform=\"scale(1 1) rotate(0) translate(4 369)\">\n<title>Tree</title>\n<polygon fill=\"white\" stroke=\"none\" points=\"-4,4 -4,-369 938,-369 938,4 -4,4\"/>\n<!-- 0 -->\n<g id=\"node1\" class=\"node\"><title>0</title>\n<polygon fill=\"none\" stroke=\"black\" points=\"528,-365 406,-365 406,-297 528,-297 528,-365\"/>\n<text text-anchor=\"middle\" x=\"467\" y=\"-349.8\" font-family=\"Times,serif\" font-size=\"14.00\">Sex_female &lt;= 0.5</text>\n<text text-anchor=\"middle\" x=\"467\" y=\"-334.8\" font-family=\"Times,serif\" font-size=\"14.00\">gini = 0.473</text>\n<text text-anchor=\"middle\" x=\"467\" y=\"-319.8\" font-family=\"Times,serif\" font-size=\"14.00\">samples = 891</text>\n<text text-anchor=\"middle\" x=\"467\" y=\"-304.8\" font-family=\"Times,serif\" font-size=\"14.00\">value = [549, 342]</text>\n</g>\n<!-- 1 -->\n<g id=\"node2\" class=\"node\"><title>1</title>\n<polygon fill=\"none\" stroke=\"black\" points=\"432.5,-261 313.5,-261 313.5,-193 432.5,-193 432.5,-261\"/>\n<text text-anchor=\"middle\" x=\"373\" y=\"-245.8\" font-family=\"Times,serif\" font-size=\"14.00\">Age &lt;= 6.5</text>\n<text text-anchor=\"middle\" x=\"373\" y=\"-230.8\" font-family=\"Times,serif\" font-size=\"14.00\">gini = 0.306</text>\n<text text-anchor=\"middle\" x=\"373\" y=\"-215.8\" font-family=\"Times,serif\" font-size=\"14.00\">samples = 577</text>\n<text text-anchor=\"middle\" x=\"373\" y=\"-200.8\" font-family=\"Times,serif\" font-size=\"14.00\">value = [468, 109]</text>\n</g>\n<!-- 0&#45;&gt;1 -->\n<g id=\"edge1\" class=\"edge\"><title>0&#45;&gt;1</title>\n<path fill=\"none\" stroke=\"black\" d=\"M436.481,-296.884C428.19,-287.887 419.116,-278.041 410.488,-268.678\"/>\n<polygon fill=\"black\" stroke=\"black\" points=\"413.038,-266.281 403.688,-261.299 407.891,-271.025 413.038,-266.281\"/>\n<text text-anchor=\"middle\" x=\"402.668\" y=\"-282.579\" font-family=\"Times,serif\" font-size=\"14.00\">True</text>\n</g>\n<!-- 8 -->\n<g id=\"node9\" class=\"node\"><title>8</title>\n<polygon fill=\"none\" stroke=\"black\" points=\"618,-261 506,-261 506,-193 618,-193 618,-261\"/>\n<text text-anchor=\"middle\" x=\"562\" y=\"-245.8\" font-family=\"Times,serif\" font-size=\"14.00\">Pclass &lt;= 2.5</text>\n<text text-anchor=\"middle\" x=\"562\" y=\"-230.8\" font-family=\"Times,serif\" font-size=\"14.00\">gini = 0.383</text>\n<text text-anchor=\"middle\" x=\"562\" y=\"-215.8\" font-family=\"Times,serif\" font-size=\"14.00\">samples = 314</text>\n<text text-anchor=\"middle\" x=\"562\" y=\"-200.8\" font-family=\"Times,serif\" font-size=\"14.00\">value = [81, 233]</text>\n</g>\n<!-- 0&#45;&gt;8 -->\n<g id=\"edge8\" class=\"edge\"><title>0&#45;&gt;8</title>\n<path fill=\"none\" stroke=\"black\" d=\"M497.844,-296.884C506.223,-287.887 515.394,-278.041 524.113,-268.678\"/>\n<polygon fill=\"black\" stroke=\"black\" points=\"526.732,-271.003 530.986,-261.299 521.609,-266.232 526.732,-271.003\"/>\n<text text-anchor=\"middle\" x=\"531.874\" y=\"-282.584\" font-family=\"Times,serif\" font-size=\"14.00\">False</text>\n</g>\n<!-- 2 -->\n<g id=\"node3\" class=\"node\"><title>2</title>\n<polygon fill=\"none\" stroke=\"black\" points=\"211,-157 113,-157 113,-89 211,-89 211,-157\"/>\n<text text-anchor=\"middle\" x=\"162\" y=\"-141.8\" font-family=\"Times,serif\" font-size=\"14.00\">SibSp &lt;= 2.5</text>\n<text text-anchor=\"middle\" x=\"162\" y=\"-126.8\" font-family=\"Times,serif\" font-size=\"14.00\">gini = 0.444</text>\n<text text-anchor=\"middle\" x=\"162\" y=\"-111.8\" font-family=\"Times,serif\" font-size=\"14.00\">samples = 24</text>\n<text text-anchor=\"middle\" x=\"162\" y=\"-96.8\" font-family=\"Times,serif\" font-size=\"14.00\">value = [8, 16]</text>\n</g>\n<!-- 1&#45;&gt;2 -->\n<g id=\"edge2\" class=\"edge\"><title>1&#45;&gt;2</title>\n<path fill=\"none\" stroke=\"black\" d=\"M313.382,-197.18C284.241,-183.093 249.301,-166.202 220.333,-152.199\"/>\n<polygon fill=\"black\" stroke=\"black\" points=\"221.68,-148.963 211.153,-147.761 218.633,-155.265 221.68,-148.963\"/>\n</g>\n<!-- 5 -->\n<g id=\"node6\" class=\"node\"><title>5</title>\n<polygon fill=\"none\" stroke=\"black\" points=\"429,-157 317,-157 317,-89 429,-89 429,-157\"/>\n<text text-anchor=\"middle\" x=\"373\" y=\"-141.8\" font-family=\"Times,serif\" font-size=\"14.00\">Pclass &lt;= 1.5</text>\n<text text-anchor=\"middle\" x=\"373\" y=\"-126.8\" font-family=\"Times,serif\" font-size=\"14.00\">gini = 0.28</text>\n<text text-anchor=\"middle\" x=\"373\" y=\"-111.8\" font-family=\"Times,serif\" font-size=\"14.00\">samples = 553</text>\n<text text-anchor=\"middle\" x=\"373\" y=\"-96.8\" font-family=\"Times,serif\" font-size=\"14.00\">value = [460, 93]</text>\n</g>\n<!-- 1&#45;&gt;5 -->\n<g id=\"edge5\" class=\"edge\"><title>1&#45;&gt;5</title>\n<path fill=\"none\" stroke=\"black\" d=\"M373,-192.884C373,-184.778 373,-175.982 373,-167.472\"/>\n<polygon fill=\"black\" stroke=\"black\" points=\"376.5,-167.299 373,-157.299 369.5,-167.299 376.5,-167.299\"/>\n</g>\n<!-- 3 -->\n<g id=\"node4\" class=\"node\"><title>3</title>\n<polygon fill=\"none\" stroke=\"black\" points=\"98,-53 7.10543e-15,-53 7.10543e-15,-0 98,-0 98,-53\"/>\n<text text-anchor=\"middle\" x=\"49\" y=\"-37.8\" font-family=\"Times,serif\" font-size=\"14.00\">gini = 0.0</text>\n<text text-anchor=\"middle\" x=\"49\" y=\"-22.8\" font-family=\"Times,serif\" font-size=\"14.00\">samples = 15</text>\n<text text-anchor=\"middle\" x=\"49\" y=\"-7.8\" font-family=\"Times,serif\" font-size=\"14.00\">value = [0, 15]</text>\n</g>\n<!-- 2&#45;&gt;3 -->\n<g id=\"edge3\" class=\"edge\"><title>2&#45;&gt;3</title>\n<path fill=\"none\" stroke=\"black\" d=\"M122.478,-88.9485C111.211,-79.526 98.951,-69.2731 87.7316,-59.8906\"/>\n<polygon fill=\"black\" stroke=\"black\" points=\"89.6915,-56.967 79.7751,-53.2367 85.2009,-62.3368 89.6915,-56.967\"/>\n</g>\n<!-- 4 -->\n<g id=\"node5\" class=\"node\"><title>4</title>\n<polygon fill=\"none\" stroke=\"black\" points=\"208,-53 116,-53 116,-0 208,-0 208,-53\"/>\n<text text-anchor=\"middle\" x=\"162\" y=\"-37.8\" font-family=\"Times,serif\" font-size=\"14.00\">gini = 0.198</text>\n<text text-anchor=\"middle\" x=\"162\" y=\"-22.8\" font-family=\"Times,serif\" font-size=\"14.00\">samples = 9</text>\n<text text-anchor=\"middle\" x=\"162\" y=\"-7.8\" font-family=\"Times,serif\" font-size=\"14.00\">value = [8, 1]</text>\n</g>\n<!-- 2&#45;&gt;4 -->\n<g id=\"edge4\" class=\"edge\"><title>2&#45;&gt;4</title>\n<path fill=\"none\" stroke=\"black\" d=\"M162,-88.9485C162,-80.7153 162,-71.848 162,-63.4814\"/>\n<polygon fill=\"black\" stroke=\"black\" points=\"165.5,-63.2367 162,-53.2367 158.5,-63.2367 165.5,-63.2367\"/>\n</g>\n<!-- 6 -->\n<g id=\"node7\" class=\"node\"><title>6</title>\n<polygon fill=\"none\" stroke=\"black\" points=\"331.5,-53 226.5,-53 226.5,-0 331.5,-0 331.5,-53\"/>\n<text text-anchor=\"middle\" x=\"279\" y=\"-37.8\" font-family=\"Times,serif\" font-size=\"14.00\">gini = 0.46</text>\n<text text-anchor=\"middle\" x=\"279\" y=\"-22.8\" font-family=\"Times,serif\" font-size=\"14.00\">samples = 120</text>\n<text text-anchor=\"middle\" x=\"279\" y=\"-7.8\" font-family=\"Times,serif\" font-size=\"14.00\">value = [77, 43]</text>\n</g>\n<!-- 5&#45;&gt;6 -->\n<g id=\"edge6\" class=\"edge\"><title>5&#45;&gt;6</title>\n<path fill=\"none\" stroke=\"black\" d=\"M340.123,-88.9485C330.933,-79.709 320.948,-69.671 311.764,-60.4381\"/>\n<polygon fill=\"black\" stroke=\"black\" points=\"314.134,-57.8582 304.601,-53.2367 309.171,-62.7948 314.134,-57.8582\"/>\n</g>\n<!-- 7 -->\n<g id=\"node8\" class=\"node\"><title>7</title>\n<polygon fill=\"none\" stroke=\"black\" points=\"462,-53 350,-53 350,-0 462,-0 462,-53\"/>\n<text text-anchor=\"middle\" x=\"406\" y=\"-37.8\" font-family=\"Times,serif\" font-size=\"14.00\">gini = 0.204</text>\n<text text-anchor=\"middle\" x=\"406\" y=\"-22.8\" font-family=\"Times,serif\" font-size=\"14.00\">samples = 433</text>\n<text text-anchor=\"middle\" x=\"406\" y=\"-7.8\" font-family=\"Times,serif\" font-size=\"14.00\">value = [383, 50]</text>\n</g>\n<!-- 5&#45;&gt;7 -->\n<g id=\"edge7\" class=\"edge\"><title>5&#45;&gt;7</title>\n<path fill=\"none\" stroke=\"black\" d=\"M384.542,-88.9485C387.481,-80.5323 390.651,-71.4536 393.63,-62.9243\"/>\n<polygon fill=\"black\" stroke=\"black\" points=\"397.02,-63.8315 397.013,-53.2367 390.411,-61.5237 397.02,-63.8315\"/>\n</g>\n<!-- 9 -->\n<g id=\"node10\" class=\"node\"><title>9</title>\n<polygon fill=\"none\" stroke=\"black\" points=\"614.5,-157 509.5,-157 509.5,-89 614.5,-89 614.5,-157\"/>\n<text text-anchor=\"middle\" x=\"562\" y=\"-141.8\" font-family=\"Times,serif\" font-size=\"14.00\">Fare &lt;= 28.856</text>\n<text text-anchor=\"middle\" x=\"562\" y=\"-126.8\" font-family=\"Times,serif\" font-size=\"14.00\">gini = 0.1</text>\n<text text-anchor=\"middle\" x=\"562\" y=\"-111.8\" font-family=\"Times,serif\" font-size=\"14.00\">samples = 170</text>\n<text text-anchor=\"middle\" x=\"562\" y=\"-96.8\" font-family=\"Times,serif\" font-size=\"14.00\">value = [9, 161]</text>\n</g>\n<!-- 8&#45;&gt;9 -->\n<g id=\"edge9\" class=\"edge\"><title>8&#45;&gt;9</title>\n<path fill=\"none\" stroke=\"black\" d=\"M562,-192.884C562,-184.778 562,-175.982 562,-167.472\"/>\n<polygon fill=\"black\" stroke=\"black\" points=\"565.5,-167.299 562,-157.299 558.5,-167.299 565.5,-167.299\"/>\n</g>\n<!-- 12 -->\n<g id=\"node13\" class=\"node\"><title>12</title>\n<polygon fill=\"none\" stroke=\"black\" points=\"817.5,-157 712.5,-157 712.5,-89 817.5,-89 817.5,-157\"/>\n<text text-anchor=\"middle\" x=\"765\" y=\"-141.8\" font-family=\"Times,serif\" font-size=\"14.00\">Fare &lt;= 23.35</text>\n<text text-anchor=\"middle\" x=\"765\" y=\"-126.8\" font-family=\"Times,serif\" font-size=\"14.00\">gini = 0.5</text>\n<text text-anchor=\"middle\" x=\"765\" y=\"-111.8\" font-family=\"Times,serif\" font-size=\"14.00\">samples = 144</text>\n<text text-anchor=\"middle\" x=\"765\" y=\"-96.8\" font-family=\"Times,serif\" font-size=\"14.00\">value = [72, 72]</text>\n</g>\n<!-- 8&#45;&gt;12 -->\n<g id=\"edge12\" class=\"edge\"><title>8&#45;&gt;12</title>\n<path fill=\"none\" stroke=\"black\" d=\"M618.008,-197.858C644.473,-184.56 676.14,-168.649 703.294,-155.005\"/>\n<polygon fill=\"black\" stroke=\"black\" points=\"704.951,-158.089 712.315,-150.472 701.808,-151.835 704.951,-158.089\"/>\n</g>\n<!-- 10 -->\n<g id=\"node11\" class=\"node\"><title>10</title>\n<polygon fill=\"none\" stroke=\"black\" points=\"578,-53 480,-53 480,-0 578,-0 578,-53\"/>\n<text text-anchor=\"middle\" x=\"529\" y=\"-37.8\" font-family=\"Times,serif\" font-size=\"14.00\">gini = 0.18</text>\n<text text-anchor=\"middle\" x=\"529\" y=\"-22.8\" font-family=\"Times,serif\" font-size=\"14.00\">samples = 70</text>\n<text text-anchor=\"middle\" x=\"529\" y=\"-7.8\" font-family=\"Times,serif\" font-size=\"14.00\">value = [7, 63]</text>\n</g>\n<!-- 9&#45;&gt;10 -->\n<g id=\"edge10\" class=\"edge\"><title>9&#45;&gt;10</title>\n<path fill=\"none\" stroke=\"black\" d=\"M550.458,-88.9485C547.519,-80.5323 544.349,-71.4536 541.37,-62.9243\"/>\n<polygon fill=\"black\" stroke=\"black\" points=\"544.589,-61.5237 537.987,-53.2367 537.98,-63.8315 544.589,-61.5237\"/>\n</g>\n<!-- 11 -->\n<g id=\"node12\" class=\"node\"><title>11</title>\n<polygon fill=\"none\" stroke=\"black\" points=\"694,-53 596,-53 596,-0 694,-0 694,-53\"/>\n<text text-anchor=\"middle\" x=\"645\" y=\"-37.8\" font-family=\"Times,serif\" font-size=\"14.00\">gini = 0.039</text>\n<text text-anchor=\"middle\" x=\"645\" y=\"-22.8\" font-family=\"Times,serif\" font-size=\"14.00\">samples = 100</text>\n<text text-anchor=\"middle\" x=\"645\" y=\"-7.8\" font-family=\"Times,serif\" font-size=\"14.00\">value = [2, 98]</text>\n</g>\n<!-- 9&#45;&gt;11 -->\n<g id=\"edge11\" class=\"edge\"><title>9&#45;&gt;11</title>\n<path fill=\"none\" stroke=\"black\" d=\"M591.029,-88.9485C598.984,-79.892 607.612,-70.0682 615.588,-60.9875\"/>\n<polygon fill=\"black\" stroke=\"black\" points=\"618.426,-63.0599 622.395,-53.2367 613.166,-58.4405 618.426,-63.0599\"/>\n</g>\n<!-- 13 -->\n<g id=\"node14\" class=\"node\"><title>13</title>\n<polygon fill=\"none\" stroke=\"black\" points=\"817.5,-53 712.5,-53 712.5,-0 817.5,-0 817.5,-53\"/>\n<text text-anchor=\"middle\" x=\"765\" y=\"-37.8\" font-family=\"Times,serif\" font-size=\"14.00\">gini = 0.484</text>\n<text text-anchor=\"middle\" x=\"765\" y=\"-22.8\" font-family=\"Times,serif\" font-size=\"14.00\">samples = 117</text>\n<text text-anchor=\"middle\" x=\"765\" y=\"-7.8\" font-family=\"Times,serif\" font-size=\"14.00\">value = [48, 69]</text>\n</g>\n<!-- 12&#45;&gt;13 -->\n<g id=\"edge13\" class=\"edge\"><title>12&#45;&gt;13</title>\n<path fill=\"none\" stroke=\"black\" d=\"M765,-88.9485C765,-80.7153 765,-71.848 765,-63.4814\"/>\n<polygon fill=\"black\" stroke=\"black\" points=\"768.5,-63.2367 765,-53.2367 761.5,-63.2367 768.5,-63.2367\"/>\n</g>\n<!-- 14 -->\n<g id=\"node15\" class=\"node\"><title>14</title>\n<polygon fill=\"none\" stroke=\"black\" points=\"934,-53 836,-53 836,-0 934,-0 934,-53\"/>\n<text text-anchor=\"middle\" x=\"885\" y=\"-37.8\" font-family=\"Times,serif\" font-size=\"14.00\">gini = 0.198</text>\n<text text-anchor=\"middle\" x=\"885\" y=\"-22.8\" font-family=\"Times,serif\" font-size=\"14.00\">samples = 27</text>\n<text text-anchor=\"middle\" x=\"885\" y=\"-7.8\" font-family=\"Times,serif\" font-size=\"14.00\">value = [24, 3]</text>\n</g>\n<!-- 12&#45;&gt;14 -->\n<g id=\"edge14\" class=\"edge\"><title>12&#45;&gt;14</title>\n<path fill=\"none\" stroke=\"black\" d=\"M806.97,-88.9485C819.051,-79.4346 832.208,-69.074 844.216,-59.6175\"/>\n<polygon fill=\"black\" stroke=\"black\" points=\"846.628,-62.1734 852.318,-53.2367 842.297,-56.6739 846.628,-62.1734\"/>\n</g>\n</g>\n</svg>\n"
          },
          "metadata": {}
        }
      ]
    },
    {
      "metadata": {
        "collapsed": true,
        "_cell_guid": "f1c1fe7d-0a1c-4f37-b931-21c4f6ec23ec",
        "_uuid": "7827cc1fba3c11981afb460cb371992988b026a2",
        "trusted": true
      },
      "cell_type": "code",
      "source": "predictions = clf.predict(testdf2.drop('PassengerId', axis = 1))",
      "execution_count": 14,
      "outputs": []
    },
    {
      "metadata": {
        "collapsed": true,
        "_cell_guid": "dc3c30fb-9272-4910-8383-45e9d8344698",
        "_uuid": "9847169f2cf716df71d2387630fc5f7d7383fffa",
        "trusted": true
      },
      "cell_type": "code",
      "source": "output = pd.DataFrame({'PassengerId':testdf2['PassengerId'], 'Survived': predictions})\n",
      "execution_count": 15,
      "outputs": []
    },
    {
      "metadata": {
        "_cell_guid": "3a519889-b162-45f3-857c-069a419f8353",
        "_uuid": "e380f7f525a3594ee8eba99886f87155e8b54309",
        "trusted": true
      },
      "cell_type": "code",
      "source": "print(output)",
      "execution_count": 16,
      "outputs": [
        {
          "output_type": "stream",
          "text": "     PassengerId  Survived\n0            892         0\n1            893         1\n2            894         0\n3            895         0\n4            896         1\n5            897         0\n6            898         1\n7            899         0\n8            900         1\n9            901         0\n10           902         0\n11           903         0\n12           904         1\n13           905         0\n14           906         1\n15           907         1\n16           908         0\n17           909         0\n18           910         1\n19           911         1\n20           912         0\n21           913         0\n22           914         1\n23           915         0\n24           916         1\n25           917         0\n26           918         1\n27           919         0\n28           920         0\n29           921         0\n..           ...       ...\n388         1280         0\n389         1281         0\n390         1282         0\n391         1283         1\n392         1284         0\n393         1285         0\n394         1286         0\n395         1287         1\n396         1288         0\n397         1289         1\n398         1290         0\n399         1291         0\n400         1292         1\n401         1293         0\n402         1294         1\n403         1295         0\n404         1296         0\n405         1297         0\n406         1298         0\n407         1299         0\n408         1300         1\n409         1301         1\n410         1302         1\n411         1303         1\n412         1304         1\n413         1305         0\n414         1306         1\n415         1307         0\n416         1308         0\n417         1309         0\n\n[418 rows x 2 columns]\n",
          "name": "stdout"
        }
      ]
    },
    {
      "metadata": {
        "collapsed": true,
        "_cell_guid": "3bcbb5d8-7378-4972-ad9c-d87ac5775571",
        "_uuid": "028872b182a69e4ef5dcc165d5416291d943c40a",
        "trusted": true
      },
      "cell_type": "code",
      "source": "output.to_csv('Tucker BAX 452.csv', index = False)",
      "execution_count": 17,
      "outputs": []
    }
  ],
  "metadata": {
    "kernelspec": {
      "display_name": "Python 3",
      "language": "python",
      "name": "python3"
    },
    "language_info": {
      "name": "python",
      "version": "3.6.4",
      "mimetype": "text/x-python",
      "codemirror_mode": {
        "name": "ipython",
        "version": 3
      },
      "pygments_lexer": "ipython3",
      "nbconvert_exporter": "python",
      "file_extension": ".py"
    }
  },
  "nbformat": 4,
  "nbformat_minor": 1
}